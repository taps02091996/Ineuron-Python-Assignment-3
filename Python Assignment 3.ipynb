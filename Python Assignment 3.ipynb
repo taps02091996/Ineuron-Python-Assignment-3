{
 "cells": [
  {
   "cell_type": "markdown",
   "id": "9d213ead",
   "metadata": {},
   "source": [
    "## WRITE A PYTHON PRGRM TO IMPLEMENT YOUR OWN MYREDUCE() FUNCTION WHICH WORKS EXACTLY LIKE PYTHON'S BULT-IN FUNC MYREDUCE()"
   ]
  },
  {
   "cell_type": "code",
   "execution_count": 16,
   "id": "1f4efe2c",
   "metadata": {},
   "outputs": [],
   "source": [
    " ## creating myreduce()\n",
    "def myreduce(fun,l1):\n",
    "    result = l1[0]\n",
    "    for i in l1[1:]:\n",
    "        result =  fun(result,i)\n",
    "    return result"
   ]
  },
  {
   "cell_type": "code",
   "execution_count": 17,
   "id": "fb23ccd6",
   "metadata": {},
   "outputs": [],
   "source": [
    "def multiply(x,y):\n",
    "    return x*y"
   ]
  },
  {
   "cell_type": "code",
   "execution_count": 18,
   "id": "ce509c03",
   "metadata": {},
   "outputs": [],
   "source": [
    "l1 = [4,5,6,7]"
   ]
  },
  {
   "cell_type": "code",
   "execution_count": 19,
   "id": "f0614713",
   "metadata": {},
   "outputs": [
    {
     "name": "stdout",
     "output_type": "stream",
     "text": [
      "840\n"
     ]
    }
   ],
   "source": [
    "print(myreduce(multiply,l1))"
   ]
  },
  {
   "cell_type": "markdown",
   "id": "05cb47b9",
   "metadata": {},
   "source": [
    "## Q2 - WRITE A PYTHON PROGRAM TO IMPLEMENT YOUR OWN MYFILTER() WHICH WORKS EXACTLY LIKE PYTHON's bult-in FUNC filter()"
   ]
  },
  {
   "cell_type": "code",
   "execution_count": 20,
   "id": "fa0c971e",
   "metadata": {},
   "outputs": [],
   "source": [
    "def myfilter(func1,list):\n",
    "    result = []\n",
    "    for i in list:\n",
    "        if func1(i):\n",
    "            result.append(i)\n",
    "    return result"
   ]
  },
  {
   "cell_type": "code",
   "execution_count": 23,
   "id": "55c6be85",
   "metadata": {},
   "outputs": [],
   "source": [
    "def test1(n):\n",
    "    if type(n)==str:\n",
    "        return True\n",
    "    "
   ]
  },
  {
   "cell_type": "code",
   "execution_count": 24,
   "id": "6eb2404e",
   "metadata": {},
   "outputs": [
    {
     "data": {
      "text/plain": [
       "['tapuu', 'ineuron']"
      ]
     },
     "execution_count": 24,
     "metadata": {},
     "output_type": "execute_result"
    }
   ],
   "source": [
    "myfilter(test1,[56,\"tapuu\",5,8,9,'ineuron'])"
   ]
  },
  {
   "cell_type": "markdown",
   "id": "f11946f1",
   "metadata": {},
   "source": [
    "## write list comprehensions to produce following lists"
   ]
  },
  {
   "cell_type": "code",
   "execution_count": 25,
   "id": "48a50c60",
   "metadata": {},
   "outputs": [],
   "source": [
    "## Q1 - ['x','xx','xxx','xxxx','y','yy','yyy','yyyy', 'z','zz','zzz','zzzz']\n",
    "\n",
    "\n",
    "l = ['x','y','z']\n",
    "l1 = [i*j for j in l for i in range(1,5)]"
   ]
  },
  {
   "cell_type": "code",
   "execution_count": 26,
   "id": "a082ea34",
   "metadata": {},
   "outputs": [
    {
     "data": {
      "text/plain": [
       "['x', 'xx', 'xxx', 'xxxx', 'y', 'yy', 'yyy', 'yyyy', 'z', 'zz', 'zzz', 'zzzz']"
      ]
     },
     "execution_count": 26,
     "metadata": {},
     "output_type": "execute_result"
    }
   ],
   "source": [
    "l1"
   ]
  },
  {
   "cell_type": "code",
   "execution_count": 27,
   "id": "68db0234",
   "metadata": {},
   "outputs": [],
   "source": [
    "## Q2 - [[2],[3],[4],[3],[4],[5],[4],[5],[6]]\n",
    "\n",
    "l2 = [[x+y] for y in range(3) for x in range(2,5)]"
   ]
  },
  {
   "cell_type": "code",
   "execution_count": 28,
   "id": "c7745813",
   "metadata": {},
   "outputs": [
    {
     "data": {
      "text/plain": [
       "[[2], [3], [4], [3], [4], [5], [4], [5], [6]]"
      ]
     },
     "execution_count": 28,
     "metadata": {},
     "output_type": "execute_result"
    }
   ],
   "source": [
    "l2"
   ]
  },
  {
   "cell_type": "code",
   "execution_count": 31,
   "id": "3e926e4b",
   "metadata": {},
   "outputs": [],
   "source": [
    "## Q3 - [[2,3,4,5],[3,4,5,6],[4,5,6,7],[5,6,7,8]]\n",
    "\n",
    "l4 = [[x + y for y in range(2,6)] for x in range(4)]"
   ]
  },
  {
   "cell_type": "code",
   "execution_count": 32,
   "id": "3120efb0",
   "metadata": {},
   "outputs": [
    {
     "data": {
      "text/plain": [
       "[[2, 3, 4, 5], [3, 4, 5, 6], [4, 5, 6, 7], [5, 6, 7, 8]]"
      ]
     },
     "execution_count": 32,
     "metadata": {},
     "output_type": "execute_result"
    }
   ],
   "source": [
    "l4"
   ]
  },
  {
   "cell_type": "code",
   "execution_count": 33,
   "id": "e513e75a",
   "metadata": {},
   "outputs": [],
   "source": [
    "## Q4 - [(1,1),(2,1),(3,1),(1,2),(2,2),(3,2),(1,3),(2,3),(3,3)]\n",
    "\n",
    "l5 = [(p,q) for q in range(1,4) for p in range(1,4)]"
   ]
  },
  {
   "cell_type": "code",
   "execution_count": 34,
   "id": "c56334b5",
   "metadata": {},
   "outputs": [
    {
     "data": {
      "text/plain": [
       "[(1, 1), (2, 1), (3, 1), (1, 2), (2, 2), (3, 2), (1, 3), (2, 3), (3, 3)]"
      ]
     },
     "execution_count": 34,
     "metadata": {},
     "output_type": "execute_result"
    }
   ],
   "source": [
    "l5"
   ]
  },
  {
   "cell_type": "code",
   "execution_count": null,
   "id": "aafc4e78",
   "metadata": {},
   "outputs": [],
   "source": []
  },
  {
   "cell_type": "code",
   "execution_count": null,
   "id": "d5c19fb1",
   "metadata": {},
   "outputs": [],
   "source": []
  }
 ],
 "metadata": {
  "kernelspec": {
   "display_name": "Python 3 (ipykernel)",
   "language": "python",
   "name": "python3"
  },
  "language_info": {
   "codemirror_mode": {
    "name": "ipython",
    "version": 3
   },
   "file_extension": ".py",
   "mimetype": "text/x-python",
   "name": "python",
   "nbconvert_exporter": "python",
   "pygments_lexer": "ipython3",
   "version": "3.9.7"
  }
 },
 "nbformat": 4,
 "nbformat_minor": 5
}
